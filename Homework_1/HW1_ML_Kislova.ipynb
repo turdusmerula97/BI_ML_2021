{
 "cells": [
  {
   "cell_type": "code",
   "execution_count": 44,
   "id": "421b2acc",
   "metadata": {},
   "outputs": [],
   "source": [
    "import time\n",
    "import matplotlib.pyplot as plt\n",
    "import seaborn as sns\n",
    "import numpy as np\n",
    "import random\n",
    "import pandas as pd\n",
    "import collections\n",
    "\n",
    "\n",
    "from sklearn.datasets import fetch_openml\n",
    "from sklearn.model_selection import train_test_split\n",
    "from knn import KNNClassifier\n",
    "from metrics import binary_classification_metrics, multiclass_accuracy"
   ]
  },
  {
   "cell_type": "code",
   "execution_count": 4,
   "id": "44ec43be",
   "metadata": {},
   "outputs": [],
   "source": [
    "plt.rcParams[\"figure.figsize\"] = 12, 9\n",
    "sns.set_style(\"whitegrid\")\n",
    "\n",
    "SEED = 111\n",
    "random.seed(SEED)\n",
    "np.random.seed(SEED)"
   ]
  },
  {
   "cell_type": "code",
   "execution_count": 5,
   "id": "27e50b75",
   "metadata": {},
   "outputs": [],
   "source": [
    "X, y = fetch_openml(name=\"Fashion-MNIST\", return_X_y=True, as_frame=False)"
   ]
  },
  {
   "cell_type": "code",
   "execution_count": 6,
   "id": "cad8a0a4",
   "metadata": {},
   "outputs": [],
   "source": [
    "idx_to_stay = np.random.choice(np.arange(X.shape[0]), replace=False, size=1000)\n",
    "X = X[idx_to_stay]\n",
    "y = y[idx_to_stay]"
   ]
  },
  {
   "cell_type": "code",
   "execution_count": 7,
   "id": "5f93410c",
   "metadata": {
    "scrolled": true
   },
   "outputs": [
    {
     "data": {
      "image/png": "[encoded data removed]",
      "text/plain": [
       "<Figure size 864x648 with 1 Axes>"
      ]
     },
     "metadata": {},
     "output_type": "display_data"
    }
   ],
   "source": [
    "image = X[np.random.choice(np.arange(X.shape[0]))].reshape(28, 28, 1)\n",
    "plt.imshow(image)\n",
    "plt.axis(\"off\");"
   ]
  },
  {
   "cell_type": "markdown",
   "id": "52558ed3",
   "metadata": {},
   "source": [
    "# 1.1"
   ]
  },
  {
   "cell_type": "code",
   "execution_count": 39,
   "id": "3fdd1347",
   "metadata": {},
   "outputs": [
    {
     "data": {
      "image/png": "[encoded data removed]",
      "text/plain": [
       "<Figure size 864x648 with 10 Axes>"
      ]
     },
     "metadata": {},
     "output_type": "display_data"
    }
   ],
   "source": [
    "y_array = []\n",
    "addit_ar = []\n",
    "for i in range(1000):\n",
    "    if y[i] not in addit_ar:\n",
    "        if len(y_array) != 10:\n",
    "            addit_ar.append(y[i])\n",
    "            y_array.append(i)\n",
    "for z in range(10):\n",
    "    plt.subplot(2, 5, z+1)\n",
    "    image = X[y_array[z]].reshape(28, 28, 1)\n",
    "    plt.imshow(image)\n",
    "    plt.axis(\"off\");"
   ]
  },
  {
   "cell_type": "markdown",
   "id": "e3e5ecd9",
   "metadata": {},
   "source": [
    "# 1.2"
   ]
  },
  {
   "cell_type": "code",
   "execution_count": 18,
   "id": "91074c16",
   "metadata": {},
   "outputs": [
    {
     "data": {
      "text/plain": [
       "{'0': 93,\n",
       " '1': 102,\n",
       " '2': 95,\n",
       " '3': 121,\n",
       " '4': 96,\n",
       " '5': 98,\n",
       " '6': 101,\n",
       " '7': 79,\n",
       " '8': 109,\n",
       " '9': 106}"
      ]
     },
     "execution_count": 18,
     "metadata": {},
     "output_type": "execute_result"
    }
   ],
   "source": [
    "unique, counts = np.unique(y, return_counts=True)\n",
    "dict(zip(unique, counts))"
   ]
  },
  {
   "cell_type": "markdown",
   "id": "c6329b83",
   "metadata": {},
   "source": [
    "# 1.3"
   ]
  },
  {
   "cell_type": "code",
   "execution_count": 54,
   "id": "eca4c884",
   "metadata": {
    "scrolled": true
   },
   "outputs": [],
   "source": [
    "X_train, X_test, y_train, y_test = train_test_split(X, y, train_size = 0.7, random_state = 3)\n"
   ]
  },
  {
   "cell_type": "markdown",
   "id": "20ab6376",
   "metadata": {},
   "source": [
    "# 1.4"
   ]
  },
  {
   "cell_type": "code",
   "execution_count": 55,
   "id": "575540f8",
   "metadata": {},
   "outputs": [
    {
     "name": "stdout",
     "output_type": "stream",
     "text": [
      "1 1 1 1 1 0 1 1 0 1 1 0 1 1 0 0 1 1 1 1 1 0 1 1 0 1 1 0 0 1 1 1 0 0 0 0 0 1 0 0 1 1 0 0 0 0 1 1 1 0 0 0 1 0 0 1 0 0 1 1 0 1 1 1 1 1 1 1 0 1 1 1 1 1 0 1 1 0 1 0 1 0 0 1 0 1 1 1 1 1 1 1 0 0 1 1 0 0 0 1 1 1 0 1 0 0 0 1 1 0 1 0 1 0 1 1 0 1 0 0 1 1 0 0 0 0\n",
      "\n",
      " 1 0 1 1 0 0 0 0 0 1 0 1 0 0 0 0 0 1 0 0 0 1 1 1 1 1 1 1 0 0 0 1 1 1 0 0 1 1 1 1 0 0 0 1 0 0 0 1 0 0 1 1 1 0 0 1 0 0 1 1 1 0 0 0 0 0 1 0 0\n"
     ]
    }
   ],
   "source": [
    "y_train_bin = []\n",
    "x_train_bin = []\n",
    "for i in range(len(y_train)):\n",
    "    if y_train[i]=='0' or y_train[i]=='1':\n",
    "        y_train_bin.append(y_train[i])\n",
    "        x_train_bin.append(X_train[i])\n",
    "        \n",
    "print(*y_train_bin)\n",
    "\n",
    "y_test_bin = []\n",
    "x_test_bin = []\n",
    "for i in range(len(y_test)):\n",
    "    if y_test[i]=='0' or y_test[i]=='1':\n",
    "        y_test_bin.append(y_test[i])\n",
    "        x_test_bin.append(X_test[i])\n",
    "        \n",
    "print('\\n',*y_test_bin)\n"
   ]
  },
  {
   "cell_type": "markdown",
   "id": "39b21068",
   "metadata": {},
   "source": [
    "Пока было время на неделе, были дурацкие попытки реализовать функции, дальше пришлось похоронить надежды на выполнение домашнего задания, к сожалению :("
   ]
  },
  {
   "cell_type": "code",
   "execution_count": 50,
   "id": "7d4171c4",
   "metadata": {},
   "outputs": [
    {
     "name": "stdout",
     "output_type": "stream",
     "text": [
      "84.9 ns ± 1.74 ns per loop (mean ± std. dev. of 7 runs, 10000000 loops each)\n"
     ]
    }
   ],
   "source": [
    "def compute_distances_two_loops(self, test_X):        \n",
    "        \n",
    "        test_len = len(test_X)\n",
    "        train_len = len(self.train_X)\n",
    "        dists = np.zeros((test_len, train_len))\n",
    "        for i in range(test_len):\n",
    "            for j in range(train_len):\n",
    "                dists[i, j] = np.sum(np.abs(self.train_X[j,:] - test_X[i,:]))\n",
    "        return dists\n",
    "\n",
    "        pass\n",
    "\n",
    "\n",
    "%timeit knn_classifier.compute_distances_two_loops(x_test_bin)"
   ]
  },
  {
   "cell_type": "code",
   "execution_count": 53,
   "id": "68cfa62d",
   "metadata": {},
   "outputs": [
    {
     "name": "stdout",
     "output_type": "stream",
     "text": [
      "85.4 ns ± 1.24 ns per loop (mean ± std. dev. of 7 runs, 10000000 loops each)\n"
     ]
    }
   ],
   "source": [
    "def compute_distances_one_loop(self, X):\n",
    "        \n",
    "        test_len = len(test_X)\n",
    "        train_len = len(self.train_X)\n",
    "        dists = np.zeros((test_len, train_len))\n",
    "        for i in range(test_len):\n",
    "                dists[i] = np.sum(np.abs(self.train_X - test_X[i,:]))\n",
    "        return dists\n",
    "\n",
    "        pass\n",
    "\n",
    "\n",
    "\n",
    "\n",
    "\n",
    "%timeit knn_classifier.compute_distances_one_loop(x_test_bin)"
   ]
  }
 ],
 "metadata": {
  "kernelspec": {
   "display_name": "Python 3 (ipykernel)",
   "language": "python",
   "name": "python3"
  },
  "language_info": {
   "codemirror_mode": {
    "name": "ipython",
    "version": 3
   },
   "file_extension": ".py",
   "mimetype": "text/x-python",
   "name": "python",
   "nbconvert_exporter": "python",
   "pygments_lexer": "ipython3",
   "version": "3.9.7"
  }
 },
 "nbformat": 4,
 "nbformat_minor": 5
}
